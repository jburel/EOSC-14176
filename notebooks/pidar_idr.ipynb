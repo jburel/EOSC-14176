{
 "cells": [
  {
   "cell_type": "markdown",
   "id": "c19fa770",
   "metadata": {},
   "source": [
    "# Use Public Resources\n",
    "\n",
    "[![Open in Colab](https://colab.research.google.com/assets/colab-badge.svg)](https://colab.research.google.com/github/jburel/EOSC-14176/blob/main/notebooks/pidar_idr.ipynb)"
   ]
  },
  {
   "cell_type": "markdown",
   "id": "718c43b2",
   "metadata": {},
   "source": [
    "## Learning Objectives\n",
    "\n",
    "* How to access data stored in [Preclinical image dataset repository](https://pidar.hpc4ai.unito.it/)(PIDAR)\n",
    "* How to access data stored in [Image Data Resource](https://idr.openmicroscopy.org/) (IDR)\n",
    "* How to do cross resources investigation"
   ]
  },
  {
   "cell_type": "markdown",
   "id": "02029198",
   "metadata": {},
   "source": [
    "### Import libraries \n",
    "Import libraries to interact with the resources"
   ]
  },
  {
   "cell_type": "code",
   "execution_count": 1,
   "id": "6572ad0b",
   "metadata": {},
   "outputs": [],
   "source": [
    "import requests\n",
    "import json"
   ]
  },
  {
   "cell_type": "markdown",
   "id": "8efd7d83",
   "metadata": {},
   "source": [
    "## First retrieve information about datasets stored in PIDAR\n",
    "We load and parse the ``json`` file."
   ]
  },
  {
   "cell_type": "code",
   "execution_count": 2,
   "id": "709a2ffd",
   "metadata": {},
   "outputs": [],
   "source": [
    "UNITO_URL_JSON = \"https://pidar.hpc4ai.unito.it/file.json\"\n",
    "import urllib.request\n",
    "with urllib.request.urlopen(UNITO_URL_JSON) as url:\n",
    "    data = json.load(url)"
   ]
  },
  {
   "cell_type": "markdown",
   "id": "1974b3bf",
   "metadata": {},
   "source": [
    "## Search for datasets\n",
    "We explore studies associated to:\n",
    "* a disease model\n",
    "* a species\n",
    "* an organ or tissue"
   ]
  },
  {
   "cell_type": "code",
   "execution_count": 3,
   "id": "54eaad82",
   "metadata": {},
   "outputs": [],
   "source": [
    "# Key can be modified according to the investigation\n",
    "KEYS = [\"disease model\", \"species\", \"organ or tissue\"]"
   ]
  },
  {
   "cell_type": "code",
   "execution_count": 4,
   "id": "7f7cdba3",
   "metadata": {
    "scrolled": false
   },
   "outputs": [],
   "source": [
    "# Helper method to search into the content of PIDAR\n",
    "def find_pidar(model, species, organ):\n",
    "    results = []\n",
    "    for d in data:\n",
    "        values = []   \n",
    "        for key, value in d.items():\n",
    "            k = key.lower().strip()\n",
    "            if k in KEYS:\n",
    "                values.append(value.lower().strip())\n",
    "        if any(model in s for s in values) and any(species in s for s in values) and any(organ in s for s in values):\n",
    "            results.append(d)\n",
    "    return results"
   ]
  },
  {
   "cell_type": "markdown",
   "id": "5978f7e9",
   "metadata": {},
   "source": [
    "# Case study #1"
   ]
  },
  {
   "cell_type": "markdown",
   "id": "ea399e23",
   "metadata": {},
   "source": [
    "## Search for healthy animals in PIDAR"
   ]
  },
  {
   "cell_type": "code",
   "execution_count": 5,
   "id": "20104dce",
   "metadata": {},
   "outputs": [],
   "source": [
    "results = find_pidar(\"naive\", \"mice\", \"liver\")"
   ]
  },
  {
   "cell_type": "markdown",
   "id": "12e803c5",
   "metadata": {},
   "source": [
    "## Check the compound\n",
    "For this investigation, we are interested to explore the compound used and see if it was used for investigation in recent studies in IDR.\n",
    "\n",
    "Using the output results from the search in PIDAR, we use the ``CHEBI:ID`` used in PIDAR to annotate the sample data and explore IDR. "
   ]
  },
  {
   "cell_type": "code",
   "execution_count": 6,
   "id": "cb0e4504",
   "metadata": {},
   "outputs": [],
   "source": [
    "# Retrieve information about the compound\n",
    "import xml.etree.ElementTree as ET\n",
    "in_chi_keys = []\n",
    "for r in results:\n",
    "    chebi_ulr = \"https://www.ebi.ac.uk/chebi/saveStructure.do?xml=true&chebiId=%s&imageId=0\" % r[\"CHEBI pharmaco\"]\n",
    "    with urllib.request.urlopen(chebi_ulr) as url:\n",
    "        response = url.read()\n",
    "        tree = ET.fromstring(response)\n",
    "        in_chi_keys.append(tree.find(\"ENTRY\"))"
   ]
  },
  {
   "cell_type": "markdown",
   "id": "989fb644",
   "metadata": {},
   "source": [
    "### Set up to query IDR"
   ]
  },
  {
   "cell_type": "code",
   "execution_count": 7,
   "id": "3a5ff608",
   "metadata": {},
   "outputs": [],
   "source": [
    "INDEX_PAGE = \"https://idr.openmicroscopy.org/webclient/?experimenter=-1\"\n",
    "\n",
    "# create http session\n",
    "with requests.Session() as session:\n",
    "    request = requests.Request('GET', INDEX_PAGE)\n",
    "    prepped = session.prepare_request(request)\n",
    "    response = session.send(prepped)\n",
    "    if response.status_code != 200:\n",
    "        response.raise_for_status()"
   ]
  },
  {
   "cell_type": "markdown",
   "id": "fcb7bbd8",
   "metadata": {},
   "source": [
    "### Search IDR\n",
    "Search the studies related to the list of compounds found in PIDAR."
   ]
  },
  {
   "cell_type": "code",
   "execution_count": 8,
   "id": "de598f46",
   "metadata": {},
   "outputs": [],
   "source": [
    "SEARCH_URL = \"https://idr.openmicroscopy.org/searchengine/api/v1/resources/{type}/search/\"\n",
    "KEY_VALUE_SEARCH = SEARCH_URL + \"?key={key}&value={value}\"\n",
    "KEY = \"InChIKey\""
   ]
  },
  {
   "cell_type": "code",
   "execution_count": 9,
   "id": "1a86af00",
   "metadata": {},
   "outputs": [
    {
     "name": "stdout",
     "output_type": "stream",
     "text": [
      "CPU times: user 76.1 ms, sys: 5.29 ms, total: 81.4 ms\n",
      "Wall time: 384 ms\n"
     ]
    }
   ],
   "source": [
    "%%time\n",
    "import collections\n",
    "from collections import defaultdict\n",
    "\n",
    "ickeys = {}\n",
    "for k in in_chi_keys:\n",
    "    value = k.find('INCHIKEY').text\n",
    "    qs1 = {'type': 'image', 'key': KEY, 'value': value}\n",
    "    url = KEY_VALUE_SEARCH.format(**qs1)\n",
    "    json = session.get(url).json()\n",
    "    ickeys[k.find('NAME').text] = json['results']['results']"
   ]
  },
  {
   "cell_type": "markdown",
   "id": "2e69d045",
   "metadata": {},
   "source": [
    "## Display the images\n",
    "Display the images associated associated to the associated compounds.\n",
    "Click on the thumbnail to open the image in IDR. "
   ]
  },
  {
   "cell_type": "code",
   "execution_count": 10,
   "id": "53026b40",
   "metadata": {},
   "outputs": [],
   "source": [
    "# URLs to retrieve the thumbnails and link to the images in IDR\n",
    "BASE_URL = \"https://idr.openmicroscopy.org/webclient\"\n",
    "IMAGE_DATA_URL = BASE_URL + \"/render_thumbnail/{id}\"\n",
    "LINK_URL = BASE_URL + \"/?show=image-{id}\""
   ]
  },
  {
   "cell_type": "code",
   "execution_count": 11,
   "id": "784bb8e1",
   "metadata": {
    "scrolled": true
   },
   "outputs": [
    {
     "data": {
      "application/vnd.jupyter.widget-view+json": {
       "model_id": "f66a9a063618485e8b001ed82bf18191",
       "version_major": 2,
       "version_minor": 0
      },
      "text/plain": [
       "AppLayout(children=(HTML(value='<h2>Compound: plerixafor</h2><table><tr><td><a href=\"https://idr.openmicroscop…"
      ]
     },
     "metadata": {},
     "output_type": "display_data"
    }
   ],
   "source": [
    "# Display the images\n",
    "from ipywidgets import AppLayout, widgets\n",
    "\n",
    "table_widget = widgets.HTML(\"\")\n",
    "\n",
    "html = ''\n",
    "for drug, images in ickeys.items():\n",
    "    html = '<h2>Compound: ' + drug + '</h2>'\n",
    "    if len(images) > 0:\n",
    "        html += '<table><tr>'\n",
    "        for image in images:\n",
    "            qs = {'id': image['id']}\n",
    "            url = IMAGE_DATA_URL.format(**qs)\n",
    "            url_link = LINK_URL.format(**qs)\n",
    "            html += '<td><a href=\"'+url_link+'\" target=\"_blank\"><img src=\"'+url+'\"/></a>&nbsp;&nbsp;</td>'\n",
    "        html += '<tr>'\n",
    "        html += \"</table>\"\n",
    "\n",
    "table_widget.value = html\n",
    "AppLayout(header=None,\n",
    "          left_sidebar=None,\n",
    "          center=table_widget,\n",
    "          right_sidebar=None,\n",
    "          footer=None)"
   ]
  },
  {
   "cell_type": "markdown",
   "id": "578e8c5f",
   "metadata": {},
   "source": [
    "# Case Study #2"
   ]
  },
  {
   "cell_type": "markdown",
   "id": "ce3f3a4d",
   "metadata": {},
   "source": [
    "### Cross Species investigation: First search PIDAR"
   ]
  },
  {
   "cell_type": "code",
   "execution_count": 12,
   "id": "235ebcbd",
   "metadata": {},
   "outputs": [],
   "source": [
    "results = find_pidar(\"neuro\", \"mice\", \"brain\")"
   ]
  },
  {
   "cell_type": "code",
   "execution_count": 13,
   "id": "6ebe7a9c",
   "metadata": {},
   "outputs": [
    {
     "name": "stdout",
     "output_type": "stream",
     "text": [
      "VCAM-1 paramagnetic micelles to detect neuroinflammation by MRI\n"
     ]
    }
   ],
   "source": [
    "for r in results:\n",
    "    v = r[\"Study description\"]\n",
    "    print(v)"
   ]
  },
  {
   "cell_type": "markdown",
   "id": "3485a443",
   "metadata": {},
   "source": [
    "## Search Gene\n",
    "The gene ``VCAM1`` is returned.\n",
    "We are now looking in [Image Data Resource](https://idr.openmicroscopy.org/) for studies linked to those genes\n",
    "Documentation about the search API used by IDR is available at [omero-search-engine](https://omero-search-engine.readthedocs.io/en/latest/)."
   ]
  },
  {
   "cell_type": "code",
   "execution_count": 14,
   "id": "d7cac806",
   "metadata": {},
   "outputs": [
    {
     "name": "stdout",
     "output_type": "stream",
     "text": [
      "CPU times: user 46.4 ms, sys: 26.6 ms, total: 73.1 ms\n",
      "Wall time: 976 ms\n"
     ]
    }
   ],
   "source": [
    "%%time\n",
    "import collections\n",
    "from collections import defaultdict\n",
    "\n",
    "gene = 'VCAM1'\n",
    "qs1 = {'type': 'image', 'key': 'Gene Symbol', 'value': gene}\n",
    "url = KEY_VALUE_SEARCH.format(**qs1)\n",
    "json = session.get(url).json()\n",
    "images = json['results']['results']"
   ]
  },
  {
   "cell_type": "markdown",
   "id": "901ad327",
   "metadata": {},
   "source": [
    "## Find the image with the following key(s) and value"
   ]
  },
  {
   "cell_type": "code",
   "execution_count": 15,
   "id": "6a402a0f",
   "metadata": {},
   "outputs": [],
   "source": [
    "PART_KEY = \"Organism Part\"\n",
    "PATHOLOGY_KEY = \"Pathology\"\n",
    "PATHOLOGY_NORMAL_VALUE = \"Normal\""
   ]
  },
  {
   "cell_type": "code",
   "execution_count": 16,
   "id": "919eb417",
   "metadata": {},
   "outputs": [],
   "source": [
    "pathology_images = {}\n",
    "result_images = defaultdict(list)\n",
    "PARTS = ['Cerebral cortex', 'Hippocampus', 'Cerebellum', 'Brain']\n",
    "for image in images:\n",
    "    values = image[\"key_values\"]\n",
    "    part = None\n",
    "    for v in values:\n",
    "        name = v[\"name\"]\n",
    "        value = v['value']\n",
    "        if name is not None and PART_KEY == name and value in PARTS:\n",
    "            part = value\n",
    "    for v in values:\n",
    "        name = v[\"name\"]\n",
    "        value = v['value']\n",
    "        if part is not None and name == PATHOLOGY_KEY:\n",
    "            if PATHOLOGY_NORMAL_VALUE in value:\n",
    "                result_images[PATHOLOGY_NORMAL_VALUE].append(image[\"id\"])\n",
    "            else:\n",
    "                result_images[value].append(image[\"id\"])"
   ]
  },
  {
   "cell_type": "code",
   "execution_count": 17,
   "id": "6aa77b4c",
   "metadata": {},
   "outputs": [
    {
     "name": "stdout",
     "output_type": "stream",
     "text": [
      "Intel MKL WARNING: Support of Intel(R) Streaming SIMD Extensions 4.2 (Intel(R) SSE4.2) enabled only processors has been deprecated. Intel oneAPI Math Kernel Library 2025.0 will require Intel(R) Advanced Vector Extensions (Intel(R) AVX) instructions.\n",
      "Intel MKL WARNING: Support of Intel(R) Streaming SIMD Extensions 4.2 (Intel(R) SSE4.2) enabled only processors has been deprecated. Intel oneAPI Math Kernel Library 2025.0 will require Intel(R) Advanced Vector Extensions (Intel(R) AVX) instructions.\n"
     ]
    },
    {
     "data": {
      "text/plain": [
       "<Axes: ylabel='disease'>"
      ]
     },
     "execution_count": 17,
     "metadata": {},
     "output_type": "execute_result"
    },
    {
     "data": {
      "image/png": "[encoded data removed]",
      "text/plain": [
       "<Figure size 1000x1000 with 1 Axes>"
      ]
     },
     "metadata": {},
     "output_type": "display_data"
    }
   ],
   "source": [
    "import pandas as pd\n",
    "import matplotlib.pyplot as plt\n",
    "disease_map = {}\n",
    "for k, v in result_images.items():\n",
    "        if k != PATHOLOGY_NORMAL_VALUE:\n",
    "            disease_map[k] = len(v)\n",
    "\n",
    "disease_ordered = collections.OrderedDict(sorted(disease_map.items()))\n",
    "df = pd.DataFrame({'disease':disease_ordered.items(),\n",
    "                    'number of images':disease_ordered.values()})\n",
    "df.plot(kind='barh', x='disease', y='number of images', figsize=(10,10))"
   ]
  },
  {
   "cell_type": "markdown",
   "id": "8fa805ac",
   "metadata": {},
   "source": [
    "## Select the disease and display the associated images\n",
    "Click on the thumbnail to open the image in IDR."
   ]
  },
  {
   "cell_type": "code",
   "execution_count": 18,
   "id": "00bfdc0f",
   "metadata": {
    "scrolled": true
   },
   "outputs": [
    {
     "data": {
      "application/vnd.jupyter.widget-view+json": {
       "model_id": "9c3adcc21e264c2e9390d5f00bb37979",
       "version_major": 2,
       "version_minor": 0
      },
      "text/plain": [
       "GridspecLayout(children=(HTML(value='Gene: <b>VCAM1</b>', layout=Layout(grid_area='widget001')), Dropdown(desc…"
      ]
     },
     "metadata": {},
     "output_type": "display_data"
    }
   ],
   "source": [
    "from ipywidgets import GridspecLayout, widgets\n",
    "\n",
    "increase = 8\n",
    "max_value = increase\n",
    "min_value = 0\n",
    "\n",
    "disease = \"\"\n",
    "\n",
    "def display_images(images, min, max):\n",
    "    html = \"<table>\"\n",
    "    html += '<tr>'\n",
    "    if min < 0:\n",
    "        min = 0\n",
    "    if max >= len(images):\n",
    "        max = len(images)\n",
    "\n",
    "    \n",
    "    for i in images[min:max]:\n",
    "        qs = {'id': i}\n",
    "        url = IMAGE_DATA_URL.format(**qs)\n",
    "        url_link = LINK_URL.format(**qs)\n",
    "        html += '<td><a href=\"'+url_link+'\" target=\"_blank\"><img src=\"'+url+'\"/></a>&nbsp;</td>'\n",
    "    html += \"</tr>\"\n",
    "    html += \"</table>\"\n",
    "    html_widget.value = html\n",
    "    \n",
    "    # Set the number of images found\n",
    "    count_widget.value = \"<b>Number of images found: \" + str(len(images)) + \"</b>\"\n",
    "    \n",
    "def on_selection_change(change):\n",
    "    global disease\n",
    "    if change['name'] == 'value':\n",
    "        values = get_images(change['new']) \n",
    "        if values is None:\n",
    "            return\n",
    "        disease = change['new']\n",
    "        min_value = 0\n",
    "        max_value = increase \n",
    "        display_images(values, min_value, max_value)\n",
    "                \n",
    "def get_images(disease):\n",
    "    for k, v in result_images.items():\n",
    "        if k == disease:\n",
    "            return v\n",
    "    return None\n",
    "    \n",
    "def on_click_next(b):\n",
    "    global min_value\n",
    "    global max_value\n",
    "    max_value = max_value + increase\n",
    "    min_value = min_value + increase\n",
    "    values = get_images(disease)\n",
    "    button_previous.disabled = False\n",
    "    if values is None:\n",
    "        return\n",
    "    if max_value > len(values):\n",
    "        button_next.disabled = True\n",
    "        \n",
    "    display_images(values, min_value, max_value)\n",
    "\n",
    "def on_click_previous(b):\n",
    "    global min_value\n",
    "    global max_value\n",
    "    max_value = max_value - increase\n",
    "    min_value = min_value - increase\n",
    "    button_next.disabled = False\n",
    "    if min_value <= 0:  # reset \n",
    "        min_value = 0\n",
    "        max_value = increase\n",
    "        button_previous.disabled = True\n",
    "    values = get_images(disease)\n",
    "    if values is not None:\n",
    "        display_images(values, min_value, max_value)\n",
    "            \n",
    "def dropdown_widget(disease_list,\n",
    "                    dropdown_widget_name,\n",
    "                    displaywidget=False):\n",
    "\n",
    "    selection = widgets.Dropdown(\n",
    "        options=disease_list,\n",
    "        value=disease_list[0],\n",
    "        description=dropdown_widget_name,\n",
    "        disabled=False,\n",
    "    )\n",
    "    selection.observe(on_selection_change)\n",
    "    display_images(get_images(selection.value), min_value, max_value)\n",
    "    return selection\n",
    "\n",
    "disease_list = list(disease_ordered.keys())\n",
    "disease = disease_list[0]\n",
    "gene_widget = widgets.HTML(\"\")\n",
    "count_widget = widgets.HTML(\"\")\n",
    "html_widget = widgets.HTML(\"\")\n",
    "disease_box = dropdown_widget(\n",
    "    disease_list,\n",
    "    'Disease: ', True\n",
    ")\n",
    "\n",
    "button_next = widgets.Button(description=\"Next>>\")\n",
    "button_next.on_click(on_click_next)\n",
    "\n",
    "button_previous = widgets.Button(description=\"<<Previous\", disabled=True)\n",
    "button_previous.on_click(on_click_previous)\n",
    "\n",
    "gene_widget.value = \"Gene: <b>\" + gene + \"</b>\"\n",
    "\n",
    "grid = GridspecLayout(3, 3)\n",
    "grid[0, 0] = gene_widget\n",
    "grid[0, 1] = disease_box\n",
    "grid[0, 2] = count_widget\n",
    "grid[2, 0] = button_previous\n",
    "grid[1, :] = html_widget\n",
    "grid[2, 2] = button_next\n",
    "grid\n"
   ]
  },
  {
   "cell_type": "markdown",
   "id": "e6972b57",
   "metadata": {},
   "source": [
    "### License (BSD 2-Clause)¶\n",
    "\n",
    "Copyright (C) 2023 University of Dundee. All Rights Reserved.\n",
    "\n",
    "Redistribution and use in source and binary forms, with or without modification, are permitted provided that the following conditions are met:\n",
    "\n",
    "Redistributions of source code must retain the above copyright notice, this list of conditions and the following disclaimer. Redistributions in binary form must reproduce the above copyright notice, this list of conditions and the following disclaimer in the documentation and/or other materials provided with the distribution. THIS SOFTWARE IS PROVIDED BY THE COPYRIGHT HOLDERS AND CONTRIBUTORS \"AS IS\" AND ANY EXPRESS OR IMPLIED WARRANTIES, INCLUDING, BUT NOT LIMITED TO, THE IMPLIED WARRANTIES OF MERCHANTABILITY AND FITNESS FOR A PARTICULAR PURPOSE ARE DISCLAIMED. IN NO EVENT SHALL THE COPYRIGHT OWNER OR CONTRIBUTORS BE LIABLE FOR ANY DIRECT, INDIRECT, INCIDENTAL, SPECIAL, EXEMPLARY, OR CONSEQUENTIAL DAMAGES (INCLUDING, BUT NOT LIMITED TO, PROCUREMENT OF SUBSTITUTE GOODS OR SERVICES; LOSS OF USE, DATA, OR PROFITS; OR BUSINESS INTERRUPTION) HOWEVER CAUSED AND ON ANY THEORY OF LIABILITY, WHETHER IN CONTRACT, STRICT LIABILITY, OR TORT (INCLUDING NEGLIGENCE OR OTHERWISE) ARISING IN ANY WAY OUT OF THE USE OF THIS SOFTWARE, EVEN IF ADVISED OF THE POSSIBILITY OF SUCH DAMAGE. "
   ]
  }
 ],
 "metadata": {
  "kernelspec": {
   "display_name": "eosc",
   "language": "python",
   "name": "eosc"
  },
  "language_info": {
   "codemirror_mode": {
    "name": "ipython",
    "version": 3
   },
   "file_extension": ".py",
   "mimetype": "text/x-python",
   "name": "python",
   "nbconvert_exporter": "python",
   "pygments_lexer": "ipython3",
   "version": "3.9.16"
  }
 },
 "nbformat": 4,
 "nbformat_minor": 5
}
